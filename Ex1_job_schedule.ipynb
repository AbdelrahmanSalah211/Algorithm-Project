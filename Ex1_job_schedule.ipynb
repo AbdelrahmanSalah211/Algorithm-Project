{
 "cells": [
  {
   "cell_type": "code",
   "execution_count": 1,
   "metadata": {},
   "outputs": [],
   "source": [
    "# we need to sort data based on profit which is the third index in in each tuple\n",
    "# we use itemgetter to sort based on specified index\n",
    "from operator import itemgetter\n",
    "def greedy_job(data):\n",
    "    profit_jobs=sorted(data,key=itemgetter(2), reverse=True)\n",
    "    #the main idea is to creat an array of zeros \n",
    "    #then we reassign evry index by 1 if the time is free\n",
    "    #if the time is busy, we dont assign the index\n",
    "    flags=[0 for i in range(len(data))]\n",
    "    #since we already sort data by profit \n",
    "    # we also get the time of every job related to every profit \n",
    "    deadline=[x[1] for x in profit_jobs ]\n",
    "    max_sum = 0\n",
    "    \n",
    "    # second part\n",
    "    for i in range(len(profit_jobs)):\n",
    "        # we iterate on every empty job to schedule\n",
    "        # we assign 1 to evey empty job \n",
    "        # then we add its profit to the latest profit \n",
    "        # if the job has already assigned the we wont add its profit\n",
    "        if((flags[deadline[i]-1])==0):\n",
    "            flags[deadline[i]-1]=1\n",
    "            max_sum+=profit_jobs[i][2]           \n",
    "    return max_sum \n"
   ]
  },
  {
   "cell_type": "code",
   "execution_count": null,
   "metadata": {},
   "outputs": [],
   "source": [
    "data=[(1,4,20),(2,1,10),(3,1,40),(4,1,30)]\n",
    "value=greedy_job(data)\n",
    "print(value)"
   ]
  },
  {
   "cell_type": "code",
   "execution_count": null,
   "metadata": {},
   "outputs": [],
   "source": []
  }
 ],
 "metadata": {
  "kernelspec": {
   "display_name": "base",
   "language": "python",
   "name": "python3"
  },
  "language_info": {
   "codemirror_mode": {
    "name": "ipython",
    "version": 3
   },
   "file_extension": ".py",
   "mimetype": "text/x-python",
   "name": "python",
   "nbconvert_exporter": "python",
   "pygments_lexer": "ipython3",
   "version": "3.8.5"
  },
  "orig_nbformat": 4,
  "vscode": {
   "interpreter": {
    "hash": "57bc2b6ce032b5f0e93daa91901b7ea38a856826ef43aa9e95b6d3999f5310df"
   }
  }
 },
 "nbformat": 4,
 "nbformat_minor": 2
}
